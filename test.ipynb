{
 "cells": [
  {
   "cell_type": "code",
   "execution_count": 6,
   "id": "88bf61ef",
   "metadata": {},
   "outputs": [
    {
     "data": {
      "text/plain": [
       "('db\\\\tokenizer_config.json',\n",
       " 'db\\\\special_tokens_map.json',\n",
       " 'db\\\\vocab.json',\n",
       " 'db\\\\merges.txt',\n",
       " 'db\\\\added_tokens.json',\n",
       " 'db\\\\tokenizer.json')"
      ]
     },
     "execution_count": 6,
     "metadata": {},
     "output_type": "execute_result"
    }
   ],
   "source": [
    "from transformers import AutoTokenizer\n",
    "vision_tokenizer = AutoTokenizer.from_pretrained(\n",
    "    \"laion/CLIP-ViT-B-32-laion2B-s34B-b79K\",\n",
    ")\n",
    "vision_tokenizer.save_pretrained(\"db\")"
   ]
  },
  {
   "cell_type": "code",
   "execution_count": 7,
   "id": "baf7ac84",
   "metadata": {},
   "outputs": [],
   "source": [
    "tokenizer = AutoTokenizer.from_pretrained(\"db\")"
   ]
  },
  {
   "cell_type": "code",
   "execution_count": 12,
   "id": "6eb68e6f",
   "metadata": {},
   "outputs": [],
   "source": [
    "from transformers import AutoTokenizer, AutoModel\n",
    "import torch\n",
    "import chromadb\n",
    "from chromadb.api.types import Documents, EmbeddingFunction\n",
    "\n",
    "class LLaVAEmbeddingFunction(EmbeddingFunction):\n",
    "    def __init__(self):\n",
    "        self.tokenizer = AutoTokenizer.from_pretrained(\"db\")  # Your saved tokenizer\n",
    "        self.model = AutoModel.from_pretrained(\"laion/CLIP-ViT-B-32-laion2B-s34B-b79K\")\n",
    "        self.device = \"cuda\" if torch.cuda.is_available() else \"cpu\"\n",
    "        self.model.to(self.device)\n",
    "\n",
    "    def __call__(self, texts: Documents) -> list:\n",
    "        # Tokenize texts\n",
    "        encoded_input = self.tokenizer(\n",
    "            texts, \n",
    "            padding=True, \n",
    "            truncation=True, \n",
    "            return_tensors='pt'\n",
    "        ).to(self.device)\n",
    "        \n",
    "        # Generate embeddings\n",
    "        with torch.no_grad():\n",
    "            model_output = self.model(**encoded_input)\n",
    "            embeddings = model_output.last_hidden_state[:, 0, :]  # Using [CLS] token embedding\n",
    "            \n",
    "        return embeddings.cpu().numpy().tolist()"
   ]
  },
  {
   "cell_type": "code",
   "execution_count": null,
   "id": "2210f274",
   "metadata": {},
   "outputs": [],
   "source": [
    "\n",
    "client = chromadb.PersistentClient()\n",
    "\n",
    "# Create collection with custom embedding function\n",
    "collection = client.get_or_create_collection(\n",
    "    name=\"text_collection\",\n",
    "    embedding_function=LLaVAEmbeddingFunction()\n",
    ")\n",
    "\n",
    "# Add documents\n",
    "collection.add(\n",
    "    documents=[\"your text here\"],\n",
    "    ids=[\"unique_id\"]\n",
    ")"
   ]
  }
 ],
 "metadata": {
  "kernelspec": {
   "display_name": ".venv",
   "language": "python",
   "name": "python3"
  },
  "language_info": {
   "codemirror_mode": {
    "name": "ipython",
    "version": 3
   },
   "file_extension": ".py",
   "mimetype": "text/x-python",
   "name": "python",
   "nbconvert_exporter": "python",
   "pygments_lexer": "ipython3",
   "version": "3.12.4"
  }
 },
 "nbformat": 4,
 "nbformat_minor": 5
}
